{
 "cells": [
  {
   "cell_type": "markdown",
   "id": "3f392523-249d-4956-91a5-c761846367d6",
   "metadata": {},
   "source": [
    "### <font color = blue> Working block of code"
   ]
  },
  {
   "cell_type": "code",
   "execution_count": 1,
   "id": "6886c1f8-65b9-4a8a-994e-d78d720c99b5",
   "metadata": {
    "tags": []
   },
   "outputs": [
    {
     "name": "stdout",
     "output_type": "stream",
     "text": [
      "Dict (20 items)\n"
     ]
    }
   ],
   "source": [
    "library(reticulate)\n",
    "Sys.setenv(RETICULATE_PYTHON = \"C:/Coding/TensorFlo_Lite/myenv/Scripts/python.exe\")\n",
    "\n",
    "# Import TensorFlow and print a confirmation\n",
    "output <- py_run_string(\"\n",
    "import tensorflow as tf\n",
    "print('TensorFlow successfully imported!')\n",
    "\")\n",
    "\n",
    "print(output)\n"
   ]
  },
  {
   "cell_type": "code",
   "execution_count": null,
   "id": "b706e482-1509-4bbc-8b3f-2f8e286c77df",
   "metadata": {
    "tags": []
   },
   "outputs": [],
   "source": [
    "library(reticulate)\n",
    "Sys.setenv(RETICULATE_PYTHON = \"C:/Coding/TensorFlo_Lite/myenv/Scripts/python.exe\")\n",
    "\n",
    "# Import TensorFlow and alias it correctly\n",
    "py_run_string(\"\n",
    "import tensorflow as tf\n",
    "print('TensorFlow successfully imported!')\n",
    "\")\n",
    "\n",
    "# Define and run a simple TensorFlow model\n",
    "output <- py_run_string(\"\n",
    "model = tf.keras.Sequential([\n",
    "    tf.keras.layers.Dense(10, activation='relu', input_shape=(784,)),\n",
    "    tf.keras.layers.Dense(10, activation='softmax')\n",
    "])\n",
    "model.compile(optimizer='adam', loss='sparse_categorical_crossentropy', metrics"
   ]
  },
  {
   "cell_type": "code",
   "execution_count": null,
   "id": "7ce99e1d-85b8-47b5-a3a7-30c42f6864b3",
   "metadata": {},
   "outputs": [],
   "source": []
  },
  {
   "cell_type": "code",
   "execution_count": null,
   "id": "b7760c7a-a1c3-401c-a6e5-e5ae3da449dd",
   "metadata": {
    "tags": []
   },
   "outputs": [],
   "source": [
    "library(reticulate)\n",
    "Sys.setenv(RETICULATE_PYTHON = \"C:/Coding/TensorFlo_Lite/myenv/Scripts/python.exe\")\n",
    "\n",
    "# Define and compile a simple TensorFlow model\n",
    "py_run_string(\"\n",
    "model = tf.keras.Sequential([\n",
    "    tf.keras.layers.Dense(10, activation='relu', input_shape=(784,)),\n",
    "    tf.keras.layers.Dense(10, activation='softmax')\n",
    "])\n",
    "model.compile(optimizer='adam', loss='sparse_categorical_crossentropy', metrics=['accuracy'])\n",
    "\")\n",
    "\n",
    "# Print model summary to verify\n",
    "output <- py_run_string(\"model.summary()\")\n",
    "print(output)\n",
    "\n"
   ]
  }
 ],
 "metadata": {
  "kernelspec": {
   "display_name": "R",
   "language": "R",
   "name": "ir"
  },
  "language_info": {
   "codemirror_mode": "r",
   "file_extension": ".r",
   "mimetype": "text/x-r-source",
   "name": "R",
   "pygments_lexer": "r",
   "version": "4.4.1"
  }
 },
 "nbformat": 4,
 "nbformat_minor": 5
}
