{
 "cells": [
  {
   "cell_type": "code",
   "execution_count": null,
   "id": "1e1ab08f-6fc3-497a-903a-e4933a59236e",
   "metadata": {},
   "outputs": [],
   "source": []
  },
  {
   "cell_type": "code",
   "execution_count": 1,
   "id": "5e9070ce-ba76-4ee3-a4df-3293876343a1",
   "metadata": {
    "tags": []
   },
   "outputs": [],
   "source": [
    "library(reticulate)\n",
    "Sys.setenv(RETICULATE_PYTHON = \"C:/Coding/TensorFlo_Lite/myenv/Scripts/python.exe\")"
   ]
  },
  {
   "cell_type": "markdown",
   "id": "3f392523-249d-4956-91a5-c761846367d6",
   "metadata": {},
   "source": [
    "### <font color = blue> Working block of code"
   ]
  },
  {
   "cell_type": "code",
   "execution_count": null,
   "id": "35bdb84e-a982-49dc-a1c6-e87fc1e528b4",
   "metadata": {},
   "outputs": [],
   "source": []
  },
  {
   "cell_type": "code",
   "execution_count": 1,
   "id": "efa98856-2862-4454-943d-9e338922455e",
   "metadata": {
    "tags": []
   },
   "outputs": [
    {
     "name": "stdout",
     "output_type": "stream",
     "text": [
      "Dict (20 items)\n"
     ]
    }
   ],
   "source": [
    "# Import TensorFlow and print a confirmation\n",
    "output <- py_run_string(\"\n",
    "import tensorflow as tf\n",
    "print('TensorFlow successfully imported!')\n",
    "\")\n",
    "\n",
    "print(output)"
   ]
  },
  {
   "cell_type": "code",
   "execution_count": null,
   "id": "9193c4d0-bf7c-4335-ba7e-c452d812cf2e",
   "metadata": {},
   "outputs": [],
   "source": []
  },
  {
   "cell_type": "markdown",
   "id": "49daf949-b556-42b6-a04f-6a5f65585a02",
   "metadata": {},
   "source": [
    "## <font color = blue> Next Steps: Building a Simple Model"
   ]
  },
  {
   "cell_type": "code",
   "execution_count": 2,
   "id": "b706e482-1509-4bbc-8b3f-2f8e286c77df",
   "metadata": {
    "tags": []
   },
   "outputs": [
    {
     "name": "stdout",
     "output_type": "stream",
     "text": [
      "Dict (21 items)\n"
     ]
    }
   ],
   "source": [
    "\n",
    "# Define and compile a simple TensorFlow model\n",
    "py_run_string(\"\n",
    "model = tf.keras.Sequential([\n",
    "    tf.keras.layers.Dense(10, activation='relu', input_shape=(784,)),\n",
    "    tf.keras.layers.Dense(10, activation='softmax')\n",
    "])\n",
    "model.compile(optimizer='adam', loss='sparse_categorical_crossentropy', metrics=['accuracy'])\n",
    "\")\n",
    "\n",
    "# Print model summary to verify\n",
    "output <- py_run_string(\"model.summary()\")\n",
    "print(output)\n"
   ]
  },
  {
   "cell_type": "code",
   "execution_count": null,
   "id": "99f66fc5-92fc-487e-90bb-5ec8c4a82f08",
   "metadata": {},
   "outputs": [],
   "source": []
  },
  {
   "cell_type": "code",
   "execution_count": null,
   "id": "af443ae8-3a87-42ca-b75d-4111fc97b9d4",
   "metadata": {},
   "outputs": [],
   "source": []
  },
  {
   "cell_type": "code",
   "execution_count": null,
   "id": "fc77974f-4510-48ab-bd62-31c7156be936",
   "metadata": {},
   "outputs": [],
   "source": []
  },
  {
   "cell_type": "code",
   "execution_count": null,
   "id": "0be4bafc-10c1-4fc4-88dc-baf3972d3ab0",
   "metadata": {},
   "outputs": [],
   "source": []
  },
  {
   "cell_type": "code",
   "execution_count": null,
   "id": "2937d770-0304-43fb-bc8a-5c8b2715b8fc",
   "metadata": {},
   "outputs": [],
   "source": []
  },
  {
   "cell_type": "code",
   "execution_count": null,
   "id": "7f37fe4d-1d76-4f6d-9c0a-18cc45999ad0",
   "metadata": {},
   "outputs": [],
   "source": []
  },
  {
   "cell_type": "code",
   "execution_count": null,
   "id": "c5ba84cc-33dc-44c7-9af5-5fa7dba9c87a",
   "metadata": {},
   "outputs": [],
   "source": []
  },
  {
   "cell_type": "code",
   "execution_count": null,
   "id": "2ee29af3-3768-48b4-9171-21f0ab89990d",
   "metadata": {},
   "outputs": [],
   "source": []
  },
  {
   "cell_type": "code",
   "execution_count": null,
   "id": "37ab6d27-148b-4cbd-918c-f1e72a940f4f",
   "metadata": {},
   "outputs": [],
   "source": []
  },
  {
   "cell_type": "code",
   "execution_count": null,
   "id": "60df94d3-bcec-4352-a97e-5a1a8a4073ec",
   "metadata": {},
   "outputs": [],
   "source": []
  },
  {
   "cell_type": "code",
   "execution_count": null,
   "id": "a7651ee1-15ad-4bac-90f0-8ccf41013d38",
   "metadata": {},
   "outputs": [],
   "source": []
  },
  {
   "cell_type": "code",
   "execution_count": null,
   "id": "8f68d963-aaa6-40c4-bd61-53e8f7565891",
   "metadata": {},
   "outputs": [],
   "source": []
  },
  {
   "cell_type": "code",
   "execution_count": null,
   "id": "0c93bb59-08d5-496c-90c9-7f40211d1dea",
   "metadata": {},
   "outputs": [],
   "source": []
  },
  {
   "cell_type": "code",
   "execution_count": null,
   "id": "b4dea3a8-7185-4ed5-8af8-89825ace1aea",
   "metadata": {},
   "outputs": [],
   "source": []
  },
  {
   "cell_type": "code",
   "execution_count": null,
   "id": "7ce99e1d-85b8-47b5-a3a7-30c42f6864b3",
   "metadata": {},
   "outputs": [],
   "source": []
  }
 ],
 "metadata": {
  "kernelspec": {
   "display_name": "R",
   "language": "R",
   "name": "ir"
  },
  "language_info": {
   "codemirror_mode": "r",
   "file_extension": ".r",
   "mimetype": "text/x-r-source",
   "name": "R",
   "pygments_lexer": "r",
   "version": "4.4.1"
  }
 },
 "nbformat": 4,
 "nbformat_minor": 5
}
